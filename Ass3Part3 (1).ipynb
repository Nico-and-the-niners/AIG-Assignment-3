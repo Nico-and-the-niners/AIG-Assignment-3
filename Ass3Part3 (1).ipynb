{
 "cells": [
  {
   "cell_type": "code",
   "execution_count": null,
   "metadata": {},
   "outputs": [],
   "source": []
  },
  {
   "cell_type": "code",
   "execution_count": 4,
   "metadata": {},
   "outputs": [
    {
     "name": "stdout",
     "output_type": "stream",
     "text": [
      "\u001b[32m\u001b[1m Resolving\u001b[22m\u001b[39m package versions...\n",
      "\u001b[32m\u001b[1m Installed\u001b[22m\u001b[39m UnPack ───────────────── v1.0.1\n",
      "\u001b[32m\u001b[1m Installed\u001b[22m\u001b[39m BeliefUpdaters ───────── v0.2.0\n",
      "\u001b[32m\u001b[1m Installed\u001b[22m\u001b[39m Crayons ──────────────── v4.0.3\n",
      "\u001b[32m\u001b[1m Installed\u001b[22m\u001b[39m Parameters ───────────── v0.12.1\n",
      "\u001b[32m\u001b[1m Installed\u001b[22m\u001b[39m DiscreteValueIteration ─ v0.4.2\n",
      "\u001b[32m\u001b[1m Installed\u001b[22m\u001b[39m POMDPPolicies ────────── v0.3.2\n",
      "\u001b[32m\u001b[1m Installed\u001b[22m\u001b[39m POMDPModelTools ──────── v0.2.4\n",
      "\u001b[32m\u001b[1m Installed\u001b[22m\u001b[39m StatsBase ────────────── v0.32.2\n",
      "\u001b[32m\u001b[1m Installed\u001b[22m\u001b[39m UnicodePlots ─────────── v1.2.0\n",
      "\u001b[32m\u001b[1m  Updating\u001b[22m\u001b[39m `C:\\Users\\WorkStation\\.julia\\environments\\v1.3\\Project.toml`\n",
      " \u001b[90m [4b033969]\u001b[39m\u001b[92m + DiscreteValueIteration v0.4.2\u001b[39m\n",
      "\u001b[32m\u001b[1m  Updating\u001b[22m\u001b[39m `C:\\Users\\WorkStation\\.julia\\environments\\v1.3\\Manifest.toml`\n",
      " \u001b[90m [8bb6e9a1]\u001b[39m\u001b[92m + BeliefUpdaters v0.2.0\u001b[39m\n",
      " \u001b[90m [a8cc5b0e]\u001b[39m\u001b[92m + Crayons v4.0.3\u001b[39m\n",
      " \u001b[90m [4b033969]\u001b[39m\u001b[92m + DiscreteValueIteration v0.4.2\u001b[39m\n",
      " \u001b[90m [08074719]\u001b[39m\u001b[92m + POMDPModelTools v0.2.4\u001b[39m\n",
      " \u001b[90m [182e52fb]\u001b[39m\u001b[92m + POMDPPolicies v0.3.2\u001b[39m\n",
      " \u001b[90m [d96e819e]\u001b[39m\u001b[92m + Parameters v0.12.1\u001b[39m\n",
      " \u001b[90m [2913bbd2]\u001b[39m\u001b[95m ↓ StatsBase v0.33.0 ⇒ v0.32.2\u001b[39m\n",
      " \u001b[90m [3a884ed6]\u001b[39m\u001b[92m + UnPack v1.0.1\u001b[39m\n",
      " \u001b[90m [b8865327]\u001b[39m\u001b[92m + UnicodePlots v1.2.0\u001b[39m\n"
     ]
    }
   ],
   "source": [
    "using Pkg; Pkg.add(\"DiscreteValueIteration\")"
   ]
  },
  {
   "cell_type": "code",
   "execution_count": 5,
   "metadata": {},
   "outputs": [
    {
     "name": "stdout",
     "output_type": "stream",
     "text": [
      "\u001b[32m\u001b[1m Resolving\u001b[22m\u001b[39m package versions...\n",
      "\u001b[32m\u001b[1m   Cloning\u001b[22m\u001b[39m [3aa3ecc9-5a5d-57c8-8188-3e47bd8068d2] QMDP from https://github.com/JuliaPOMDP/QMDP.jl\n",
      "\u001b[2K\u001b[36m\u001b[1mFetching:\u001b[22m\u001b[39m [========================================>]  100.0 %.0 % [==>                                      ]  4.0 %.7 % [=======>                                 ]  16.6 %\u001b[36m\u001b[1mFetching:\u001b[22m\u001b[39m [=========>                               ]  21.4 %===========>                             ]  26.7 %\u001b[36m\u001b[1mFetching:\u001b[22m\u001b[39m [==============>                          ]  34.7 %38.2 %>                   ]  50.6 % [===========================>             ]  65.3 %=============================>           ]  72.2 %\u001b[36m\u001b[1mFetching:\u001b[22m\u001b[39m [===============================>         ]  77.3 % %]  91.2 %\u001b[36m\u001b[1mFetching:\u001b[22m\u001b[39m [========================================>]  98.5 %\u001b[?25h\u001b[32m\u001b[1m Installed\u001b[22m\u001b[39m QMDP ─ v0.1.2\n",
      "\u001b[32m\u001b[1m  Updating\u001b[22m\u001b[39m `C:\\Users\\WorkStation\\.julia\\environments\\v1.3\\Project.toml`\n",
      " \u001b[90m [3aa3ecc9]\u001b[39m\u001b[92m + QMDP v0.1.2\u001b[39m\n",
      "\u001b[32m\u001b[1m  Updating\u001b[22m\u001b[39m `C:\\Users\\WorkStation\\.julia\\environments\\v1.3\\Manifest.toml`\n",
      " \u001b[90m [3aa3ecc9]\u001b[39m\u001b[92m + QMDP v0.1.2\u001b[39m\n",
      "\u001b[32m\u001b[1m  Building\u001b[22m\u001b[39m QMDP → `C:\\Users\\WorkStation\\.julia\\packages\\QMDP\\LiM5S\\deps\\build.log`\n"
     ]
    }
   ],
   "source": [
    "Pkg.add(\"QMDP\")"
   ]
  },
  {
   "cell_type": "code",
   "execution_count": 108,
   "metadata": {},
   "outputs": [],
   "source": [
    "using POMDPs\n",
    "#agent\n",
    "mutable struct BlockWorld <: MDP{Int64, Symbol}\n",
    "    Box::Array\n",
    "   Table::Array\n",
    "    start::Int64\n",
    "    γ::Float64\n",
    "    \n",
    "    BlockWorld(;Box::Array = [:BoxB,:BoxC,:BoxD], Table::Array = [],start::Int64 = 5, γ::Float64 = 0.5) = new(Box, Table, start, γ)\n",
    "end\n"
   ]
  },
  {
   "cell_type": "code",
   "execution_count": 129,
   "metadata": {},
   "outputs": [],
   "source": [
    "\n",
    "function POMDPs.states(mdp::BlockWorld)\n",
    "   s = BlockWorld[] # initialize an array of GridWorldStates\n",
    "  \n",
    "    for i in 1:5 \n",
    "        push!(s, BlockWorld(i,ActionZero(mdp::BlockWorld)))\n",
    "    end\n",
    "    return s\n",
    "    \n",
    "end\n",
    "POMDPs.stateindex(mdp::BlockWorld, s::Int64) = s\n",
    "POMDPs.n_states(mdp::BlockWorld) = 5"
   ]
  },
  {
   "cell_type": "code",
   "execution_count": 124,
   "metadata": {},
   "outputs": [],
   "source": [
    "\n",
    "    function ActionZero(mdp::BlockWorld)\n",
    "           if :BlockB in mdp.Box && POMDPs.states() == 0\n",
    "            return true\n",
    "          elseif POMDPs.states() == 1\n",
    "        :BlockC in mdp.Box\n",
    "        return true\n",
    "          elseif POMDPs.states() == 2\n",
    "        :BlockD in mdp.Box\n",
    "        return true\n",
    "    end\n",
    "        end\n",
    "    \n",
    "    function ActionOne(mdp::BlockWorld)\n",
    "            if POMDPs.states() == 0\n",
    "                push!(mdp.Table, :BlockB)\n",
    "        elseif POMDPs.states() == 1\n",
    "                push!(mdp.Table, :BlockC)\n",
    "        elseif POMDPs.states() == 2\n",
    "                push!(mdp.Table, :BlockD)\n",
    "    end\n",
    "end\n",
    "    \n",
    "   function ActionTwo(mdp::BlockWorld)\n",
    "    if POMDPs.states() == 1 && :BlockB in mdp.Table\n",
    "        pushfirst!(mdp.Table,:BlockC)\n",
    "            elseif POMDPs.states() == 2 && :BlockC in mdp.Table\n",
    "        pushfirst!(mdp.Table,:BlockD)\n",
    "    end\n",
    "end\n",
    "    \n",
    "    \n",
    "        \n",
    " POMDPs.actions(mdp::BlockWorld) = [ActionZero(mdp::BlockWorld),ActionOne(),ActionTwo()]"
   ]
  },
  {
   "cell_type": "code",
   "execution_count": 105,
   "metadata": {},
   "outputs": [],
   "source": [
    "function POMDPs.transition(mdp::BlockWorld, state::BlockWorld, action::Symbol)\n",
    "   prob = fill(0.0, 4)  \n",
    "    if POMDPs.states() == 0 && :BlockB in mdp.Box && :BlockC in mdp.Box && :BlockD in mdp.Box && prob == 0.0\n",
    "        if prob == 1\n",
    "            ActionOne(:BlockB)\n",
    "            return POMDPs.states() , prob\n",
    "        end\n",
    "        return POMDPs.states() , prob\n",
    "    elseif  POMDPs.states() == 1 && :BlockB in mdp.Table\n",
    "        if prob == 0\n",
    "            ActionOne(:BlockC)\n",
    "            return POMDS.states(), prob\n",
    "        elseif prob == 0.5\n",
    "             ActionOne(:BlockC)\n",
    "            return POMDS.states() + 1, prob\n",
    "        end\n",
    "    elseif POMDPs.states() == 1 && :BlockB in mdp.Table && :BlockC in mdp.Table\n",
    "          ActionOne(:BlockD)\n",
    "            return POMDS.states() + 1, prob\n",
    "        end     \n",
    "end"
   ]
  },
  {
   "cell_type": "code",
   "execution_count": 40,
   "metadata": {},
   "outputs": [],
   "source": [
    "POMDPs.discount(mdp::BlockWorld) = mdp.γ"
   ]
  },
  {
   "cell_type": "code",
   "execution_count": 54,
   "metadata": {},
   "outputs": [],
   "source": [
    "function POMDPs.isterminal(mdp::BlockWorld, s::Int64)\n",
    "    return s == 4 || s == 5\n",
    "end"
   ]
  },
  {
   "cell_type": "code",
   "execution_count": 59,
   "metadata": {},
   "outputs": [
    {
     "data": {
      "text/plain": [
       "BlockWorld(Symbol[:BoxB, :BoxC, :BoxD], Any[], 4, 0.9)"
      ]
     },
     "execution_count": 59,
     "metadata": {},
     "output_type": "execute_result"
    }
   ],
   "source": [
    "\n",
    "mdp = BlockWorld(start=4, γ=0.9)"
   ]
  },
  {
   "cell_type": "code",
   "execution_count": 61,
   "metadata": {},
   "outputs": [],
   "source": [
    "using DiscreteValueIteration"
   ]
  },
  {
   "cell_type": "code",
   "execution_count": 112,
   "metadata": {},
   "outputs": [],
   "source": [
    "function POMDPs.reward(mdp::BlockWorld) #deleted action\n",
    "    if state.done\n",
    "        return 0.0\n",
    "    end\n",
    "    r = 0.0\n",
    "    n = length(mdp.reward_states)\n",
    "    for i = 1:n\n",
    "        if mdp.States() == 0\n",
    "            return 0.0\n",
    "        elseif mdp.States() == 1 \n",
    "            return 1.0\n",
    "        elseif mdp.states() == 2\n",
    "            return 2.0\n",
    "        elseif mdp.states() == 3\n",
    "            return 100\n",
    "        end\n",
    "    end\n",
    "    return r\n",
    "end;"
   ]
  },
  {
   "cell_type": "code",
   "execution_count": null,
   "metadata": {},
   "outputs": [],
   "source": [
    "mdp = BlockWorld()\n",
    "solver = ValueIterationSolver(max_iterations=100, belres=1e-3)\n",
    "policy = ValueIterationPolicy(mdp) \n",
    "solve(solver, mdp, policy, verbose=true);"
   ]
  },
  {
   "cell_type": "code",
   "execution_count": null,
   "metadata": {},
   "outputs": [],
   "source": []
  }
 ],
 "metadata": {
  "kernelspec": {
   "display_name": "Julia 1.3.1",
   "language": "julia",
   "name": "julia-1.3"
  },
  "language_info": {
   "file_extension": ".jl",
   "mimetype": "application/julia",
   "name": "julia",
   "version": "1.3.1"
  }
 },
 "nbformat": 4,
 "nbformat_minor": 2
}
